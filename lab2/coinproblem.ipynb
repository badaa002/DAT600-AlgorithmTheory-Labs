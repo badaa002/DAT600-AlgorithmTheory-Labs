{
 "cells": [
  {
   "cell_type": "code",
   "execution_count": 23,
   "metadata": {},
   "outputs": [],
   "source": [
    "# insertion sort from the previous assignment\n",
    "def insertion_sort(array):\n",
    "    for i in range(1, len(array)):\n",
    "        number = array[i]\n",
    "        i -= 1\n",
    "        while i>0 and number< array[i]:\n",
    "            array[i+1]=array[i]\n",
    "            i-=1\n",
    "        array[i+1]=number\n",
    "    return array"
   ]
  },
  {
   "cell_type": "code",
   "execution_count": 24,
   "metadata": {},
   "outputs": [],
   "source": [
    "def greedy_coins(coins, n):\n",
    "    # sorts the coins by using the insertion sort algorithm\n",
    "    sorted_coins = insertion_sort(coins)\n",
    "    index = len(sorted_coins)-1\n",
    "    amount = 0\n",
    "    # while loop to iterate through the amount of coins\n",
    "    while index >= 0 and n > 0:\n",
    "        # checks if the current coin is bigger than n\n",
    "        if n < sorted_coins[index]:\n",
    "            # decreases index by one if current coin is bigger\n",
    "            index-=1\n",
    "        # when the coin isnt bigger than n, its subtracted from n\n",
    "        n-=sorted_coins[index]\n",
    "        amount+=1\n",
    "    return amount"
   ]
  },
  {
   "cell_type": "code",
   "execution_count": 25,
   "metadata": {},
   "outputs": [
    {
     "name": "stdout",
     "output_type": "stream",
     "text": [
      "[1, 3, 5, 10, 15, 20]\n",
      "3\n"
     ]
    }
   ],
   "source": [
    "coins = [1,3,5,10,15,20]\n",
    "print(insertion_sort(coins))\n",
    "function = greedy_coins(coins, 45)\n",
    "print(function)"
   ]
  }
 ],
 "metadata": {
  "kernelspec": {
   "display_name": "Python 3",
   "language": "python",
   "name": "python3"
  },
  "language_info": {
   "codemirror_mode": {
    "name": "ipython",
    "version": 3
   },
   "file_extension": ".py",
   "mimetype": "text/x-python",
   "name": "python",
   "nbconvert_exporter": "python",
   "pygments_lexer": "ipython3",
   "version": "3.8.2"
  }
 },
 "nbformat": 4,
 "nbformat_minor": 2
}
