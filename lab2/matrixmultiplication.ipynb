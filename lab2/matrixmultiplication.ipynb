{
 "cells": [
  {
   "cell_type": "code",
   "execution_count": 3,
   "metadata": {},
   "outputs": [],
   "source": [
    "# inspiration from https://favtutor.com/articles/matrix-chain-multiplication/\n",
    "# setting a starting value for the amount of multiplications\n",
    "maxint = float('inf')\n",
    "\n",
    "def matrix_chain_multiplication(array):\n",
    "    size = len(array)\n",
    "    # create an array for m and fill it with zeros\n",
    "    m = [[0] * size for _ in range(size)]\n",
    "\n",
    "    # When the chainsize is in range of 1, the result would give 0. \n",
    "    # The matrix is already filled with zeros which makes it unnecesary to include\n",
    "\n",
    "    # Iterates over the possible chainsizes\n",
    "    for chainsize in range(2,size):\n",
    "        # loops through possible chains, from 1 (because matrices usually start from 1) \n",
    "        # untill size-chainsize+1 (to make sure there is enough space for the chains)\n",
    "        for i in range(1,size-chainsize+1):\n",
    "            # sets j to point to the last matrix\n",
    "            j=i+chainsize-1\n",
    "            #sets m[i][j] to the max value defined in the beginning\n",
    "            m[i][j] = maxint\n",
    "            for k in range(i, j):\n",
    "                # formula to find cost of a matrix multiplication\n",
    "                cost = m[i][k] + m[k + 1][j] + array[i-1] * array[k] * array[j]\n",
    "                # if the cost is smaller than the previous m[i][j] then the value should be updated\n",
    "                if cost < m[i][j]:\n",
    "                    m[i][j] = cost\n",
    "    # returns the value of the least amount of multiplications\n",
    "    return m[1][size - 1]"
   ]
  },
  {
   "cell_type": "code",
   "execution_count": 4,
   "metadata": {},
   "outputs": [
    {
     "name": "stdout",
     "output_type": "stream",
     "text": [
      "194\n"
     ]
    }
   ],
   "source": [
    "array = [2,5,5,6,7]\n",
    "print(matrix_chain_multiplication(array))"
   ]
  }
 ],
 "metadata": {
  "kernelspec": {
   "display_name": "Python 3",
   "language": "python",
   "name": "python3"
  },
  "language_info": {
   "codemirror_mode": {
    "name": "ipython",
    "version": 3
   },
   "file_extension": ".py",
   "mimetype": "text/x-python",
   "name": "python",
   "nbconvert_exporter": "python",
   "pygments_lexer": "ipython3",
   "version": "3.8.2"
  }
 },
 "nbformat": 4,
 "nbformat_minor": 2
}
