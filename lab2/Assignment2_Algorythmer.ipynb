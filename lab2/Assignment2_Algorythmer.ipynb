{
  "nbformat": 4,
  "nbformat_minor": 0,
  "metadata": {
    "colab": {
      "provenance": []
    },
    "kernelspec": {
      "name": "python3",
      "display_name": "Python 3"
    },
    "language_info": {
      "name": "python"
    }
  },
  "cells": [
    {
      "cell_type": "markdown",
      "source": [
        "# II Fractional and 0-1 Knapsack\n",
        "\n",
        "Pages 426-427 from the text book present the knapsack problem. Write a\n",
        "program that takes as input the possible units (kg, price), and the maximum\n",
        "capacity of the knapsack, and does the following:\n",
        "\n",
        "1. Automatically generates 0-1 knapsack problems with their corresponding\n",
        "solutions.\n",
        "2. Automatically generates fractional knapsack problems with their corre-\n",
        "sponding solutions"
      ],
      "metadata": {
        "id": "xl89xfgJkK24"
      }
    },
    {
      "cell_type": "markdown",
      "source": [
        "References:\n",
        "\n",
        "[Original textbook page 426-427](https://r1.vlereader.com/Reader?ean=9780262270830) and\n",
        "[Handout](https://www.cs.ucdavis.edu/~bai/ECS122A/knapsack01.pdf)\n",
        "\n",
        "**Setup**\n",
        "\n",
        "\n",
        "*   Generate class constructer for Item with weight and value vars.\n",
        "\n",
        "\n",
        "\n",
        "\n"
      ],
      "metadata": {
        "id": "NeN8EixvS3Qv"
      }
    },
    {
      "cell_type": "code",
      "execution_count": 18,
      "metadata": {
        "id": "fWZpJwMIINIY"
      },
      "outputs": [],
      "source": [
        "import random\n",
        "\n",
        "class Item:\n",
        "    def __init__(self, weight, value):\n",
        "        self.weight = weight\n",
        "        self.value = value\n"
      ]
    },
    {
      "cell_type": "markdown",
      "source": [
        "\n",
        "\n",
        "*   Generating problems for both\n",
        "\n",
        "Creates list with random weights and values suitable for both types of problems, a 0-1 knapsack problem and a fractional knapsack problem.\n",
        "\n",
        "\n",
        "\n",
        "\n"
      ],
      "metadata": {
        "id": "NnzkSG2yb0DT"
      }
    },
    {
      "cell_type": "code",
      "source": [
        "def generate_knapsack_problems(n, max_weight, max_value):\n",
        "    items = []\n",
        "    for _ in range(n):\n",
        "        weight = random.randint(1, max_weight)\n",
        "        value = random.randint(1, max_value)\n",
        "        items.append(Item(weight, value))\n",
        "    return items"
      ],
      "metadata": {
        "id": "MkdXDC_NwcNO"
      },
      "execution_count": 19,
      "outputs": []
    },
    {
      "cell_type": "markdown",
      "source": [
        "\n",
        "\n",
        "*   Implementing function for the 0-1 knapsack using dynamic programming. Requires generating random max. capacity. The goal is to maximize the total value of items we can take, given a maximum weight constraint for the knapsack (a thief's bag).\n",
        "\n",
        "*   Implementing function for the fractional knapsack using greedy approach. Requires sorting in desc. order (value-to-weight ratio). Also requires random max. capacity.\n",
        "\n",
        "Max. capacity = max_weight\n",
        "\n"
      ],
      "metadata": {
        "id": "4nIVl5d8dWA6"
      }
    },
    {
      "cell_type": "code",
      "source": [
        "def zero_one_knapsack(items, max_weight):\n",
        "    n = len(items)\n",
        "    dp = []\n",
        "    for _ in range(n + 1):\n",
        "        dp.append([0] * (max_weight + 1))\n",
        "\n",
        "    for i in range(1, n + 1):\n",
        "        for w in range(1, max_weight + 1):\n",
        "            if items[i - 1].weight <= w:\n",
        "                dp[i][w] = max(dp[i - 1][w], dp[i - 1][w - items[i - 1].weight] + items[i - 1].value)\n",
        "            else:\n",
        "               # If the weight of the current item exceeds the capacity, we can't include it\n",
        "                dp[i][w] = dp[i - 1][w]\n",
        "\n",
        "    return dp[n][max_weight]\n",
        "\n",
        "\n",
        "def fractional_knapsack(items, max_weight):\n",
        "  #calculates the value-to-weight ratio for each item x in the list\n",
        "    items.sort(key=lambda x: x.value / x.weight, reverse=True)\n",
        "    total_value = 0\n",
        "    remaining_weight = max_weight\n",
        "\n",
        "    for item in items:\n",
        "        if item.weight <= remaining_weight:\n",
        "            total_value += item.value\n",
        "            remaining_weight -= item.weight\n",
        "        else:\n",
        "            total_value += (item.value / item.weight) * remaining_weight\n",
        "            break\n",
        "\n",
        "    return total_value"
      ],
      "metadata": {
        "id": "EdCbQnGHeymE"
      },
      "execution_count": 28,
      "outputs": []
    },
    {
      "cell_type": "markdown",
      "source": [
        "*   Testing implementation\n",
        "  *   Call generate random knapsack problems\n",
        "  *   Print and solve\n",
        "\n",
        "\n",
        "\n",
        "\n",
        "\n",
        "\n"
      ],
      "metadata": {
        "id": "hFigXEtie6Tq"
      }
    },
    {
      "cell_type": "code",
      "source": [
        "if __name__==\"__main__\":\n",
        "  max_weight = 45\n",
        "  max_value = 70\n",
        "  n_items = 5\n",
        "\n",
        "  items = generate_knapsack_problems(n_items, max_weight, max_value)\n",
        "  print(\"Generated items:\")\n",
        "  for item in items:\n",
        "    print(f\"Weight: {item.weight}, Value: {item.value}\")\n",
        "\n",
        "  print(\"\\n0-1 Knapsack Solution:\")\n",
        "  print(f\"Total value: {zero_one_knapsack(items, max_weight)}\")\n",
        "\n",
        "  print(\"\\nFractional Knapsack Solution:\")\n",
        "  print(f\"Total value: {fractional_knapsack(items, max_weight)}\")\n",
        "\n"
      ],
      "metadata": {
        "colab": {
          "base_uri": "https://localhost:8080/"
        },
        "id": "1BnFtqqHfa5x",
        "outputId": "3f4d2fe2-ae4a-4f2f-8be4-f1584bfcfeda"
      },
      "execution_count": 29,
      "outputs": [
        {
          "output_type": "stream",
          "name": "stdout",
          "text": [
            "Generated items:\n",
            "Weight: 42, Value: 33\n",
            "Weight: 14, Value: 70\n",
            "Weight: 41, Value: 41\n",
            "Weight: 15, Value: 52\n",
            "Weight: 13, Value: 42\n",
            "\n",
            "0-1 Knapsack Solution:\n",
            "Total value: 164\n",
            "\n",
            "Fractional Knapsack Solution:\n",
            "Total value: 167.0\n"
          ]
        }
      ]
    },
    {
      "cell_type": "markdown",
      "source": [
        "# III Problem Greedy + Dynamic (coin change) Task 2\n",
        "\n",
        "\n",
        "\n",
        "\n",
        "\n"
      ],
      "metadata": {
        "id": "fR-r_Bj5wbkA"
      }
    },
    {
      "cell_type": "markdown",
      "source": [
        "As mentioned in the problem statement, a greedy approach might not always yield the optimal solution. For instance, with coins [1, 5, 11] and N = 15, the greedy approach would give 5 coins (11 + 1 + 1 + 1 + 1), but the optimal solution is 3 coins (5 + 5 + 5).\n",
        "The discrepancy arises because in the greedy approach we prioritize the largest available coin to be used at each step. This doesn't incount the overall combination of coins that might result in a smaller total number of coins."
      ],
      "metadata": {
        "id": "-8BsZa9x0d5_"
      }
    },
    {
      "cell_type": "markdown",
      "source": [
        "# Task 3\n",
        "Devise a new solution that accommodates any currency system, ensuring\n",
        "an optimal global solution for the minimum number of coins required.\n",
        "(Note: You can always assume the currency system has a coin equal to 1)."
      ],
      "metadata": {
        "id": "qSpCjeNq0XRm"
      }
    },
    {
      "cell_type": "markdown",
      "source": [
        "Dynamic programming offers a solution that always guarantees the minimum number of coins required. Approach is to create another table/array that will store required minimum amount of coins for each number. dp[] of size N+1.\n",
        "\n",
        "For dynamic approach we use following:\n",
        "N = 45, array example used : [1,3,5,10,15,20]."
      ],
      "metadata": {
        "id": "TWFb_HGf992D"
      }
    },
    {
      "cell_type": "code",
      "source": [
        "def dynamic_programming_min_coins(N, arr):\n",
        "    dp = [float('inf')] * (N + 1)\n",
        "    dp[0] = 0  # Base case\n",
        "\n",
        "    for i in range(1, N + 1):\n",
        "        for coin in arr:\n",
        "            if i >= coin:\n",
        "                dp[i] = min(dp[i], dp[i - coin] + 1)\n",
        "# dp[N] if dp[N] != float('inf') else -1   - > -1 if not possible to return value\n",
        "    print(\"Minimum number of coins needed:\", dp[N])\n",
        "    return\n",
        "\n",
        "\n",
        "\n",
        "if __name__==\"__main__\":\n",
        "  N = 45\n",
        "  array = [1,3,5,10,15,20]\n",
        "  dynamic_programming_min_coins(N, array)"
      ],
      "metadata": {
        "colab": {
          "base_uri": "https://localhost:8080/"
        },
        "id": "Lbl-ThVq0ZAk",
        "outputId": "73be0de4-9a7d-4d6d-eb0e-7da05c76456a"
      },
      "execution_count": 11,
      "outputs": [
        {
          "output_type": "stream",
          "name": "stdout",
          "text": [
            "Minimum number of coins needed: 3\n"
          ]
        }
      ]
    },
    {
      "cell_type": "markdown",
      "source": [
        "#Task 5\n",
        "What is the running time of these two algorithms?\n",
        "\n",
        "*w.c. - worst case.\n",
        "*N - target total amount.\n",
        "*n - number of coins in an array."
      ],
      "metadata": {
        "id": "DCJAJ-BfxmkV"
      }
    },
    {
      "cell_type": "markdown",
      "source": [
        "Both algorythms used N=45 and array:[1,3,5,10,15,20].\n",
        "\n",
        "---\n",
        "In terms of greedy solution running time is **O(n^2)**.\n",
        "\n",
        "1.   Insertion sort has a time complexity of O(n^2)\n",
        "2.   After sorting, the greedy algorithm's time complexity remains O(n)\n",
        "\n",
        "So, it would be O(n^2) (for insertion sort) + O(n) (for the greedy algorithm) = O(n^2 + n).\n",
        "Given N=45 and assuming n coin denominations, the running time is determand by the dominant n value, **O(n^2)**.\n",
        "\n",
        "In terms of dynamic programming running time, it's  **O(N*n)**. In w.c. scenarion we are dependent and iterate all values from 1 to N, **O(N)**. Another iteration is dependent on amount of coins, n, **O(n)**. Running time for the dynamic coin programming is, **O(N*n)**."
      ],
      "metadata": {
        "id": "9zcQomyoxr10"
      }
    },
    {
      "cell_type": "markdown",
      "source": [
        "For visualization using [20, 10, 5, 1] array from Task 4 example.\n",
        "\n",
        "---\n",
        "*Visualization Greedy solution:*:\n",
        "\n",
        "Start:  N = 15 |\n",
        "Coins:  [20, 10, 5, 1]\n",
        "\n",
        "Iteration 1:\n",
        "Remaining amount: 15 - 10 = 5\n",
        "Coins used: 10\n",
        "Remaining coins: [20, 5, 1]\n",
        "\n",
        "Iteration 2:\n",
        "Remaining amount: 5 - 5 = 0\n",
        "Coins used: 5\n",
        "Remaining coins: [20, 1]\n",
        "\n",
        "Total coins used: 2\n",
        "\n",
        "---\n",
        "*Visualization Dynamic solution:*\n",
        "Create another array with minimum number of coins needed for each number from o to N.\n",
        "\n",
        "Target Amount (N): 15 |\n",
        "Coins: [1, 5, 10, 20]\n",
        "\n",
        "dp[] array:\n",
        "\n",
        "\n",
        "*   0 1 2 3 4 5 6 7 8 9 10 11 12 13 14 15\n",
        "*   0 1 2 3 4 1 2 3 4 5  1  2  3  4  5  2\n",
        "\n",
        "For dp[0] = 0, as no coins are needed to make 0.\n",
        "- dp[1] = 1, as one coin of value 1 to make 1.\n",
        "- dp[5] = 1, as one coin of value 5 to make 5.\n",
        "- dp[10] = 1, as one coin of value 10 to make 10.\n",
        "- dp[15] = 2, as we can use two coins of value 5 and 10 to make 15.\n",
        "\n",
        "\n",
        "\n",
        "\n",
        "\n",
        "\n"
      ],
      "metadata": {
        "id": "iDEYGX03yp7R"
      }
    }
  ]
}